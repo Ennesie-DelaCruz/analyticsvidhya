{
 "cells": [
  {
   "cell_type": "markdown",
   "metadata": {},
   "source": [
    "#### Jaiyesh Chahar | jaiyesh0002@gmail.com\n",
    "\n",
    "#### Data Scientist, Siemens\n",
    "\n",
    "#### Co-Founder, Petroleum From Scratch\n",
    "\n",
    "#### Linkedin: https://www.linkedin.com/in/jaiyesh-chahar-9b3642107/\n",
    "\n",
    "#### Github: https://github.com/jaiyesh\n",
    "\n",
    "#### Petroleum From Scratch Youtube Channel: https://www.youtube.com/channel/UC_lT10npISN5V32HDLAklsw"
   ]
  },
  {
   "cell_type": "markdown",
   "metadata": {},
   "source": [
    "## Matplotlib"
   ]
  },
  {
   "cell_type": "code",
   "execution_count": null,
   "metadata": {},
   "outputs": [],
   "source": [
    "import numpy as np\n",
    "import pandas as pd\n",
    "import matplotlib.pyplot as plt"
   ]
  },
  {
   "cell_type": "code",
   "execution_count": null,
   "metadata": {},
   "outputs": [],
   "source": [
    "#Lets create our own data\n",
    "df = pd.DataFrame(np.random.randn(1000),index = pd.date_range('2019-06-07',periods = 1000),columns = ['value'])"
   ]
  },
  {
   "cell_type": "code",
   "execution_count": null,
   "metadata": {},
   "outputs": [],
   "source": [
    "df"
   ]
  },
  {
   "cell_type": "code",
   "execution_count": null,
   "metadata": {},
   "outputs": [],
   "source": [
    "df.plot()"
   ]
  },
  {
   "cell_type": "code",
   "execution_count": null,
   "metadata": {},
   "outputs": [],
   "source": [
    "df['Cumsum'] = df['value'].cumsum()"
   ]
  },
  {
   "cell_type": "code",
   "execution_count": null,
   "metadata": {},
   "outputs": [],
   "source": [
    "df.plot()"
   ]
  },
  {
   "cell_type": "code",
   "execution_count": null,
   "metadata": {},
   "outputs": [],
   "source": [
    "# Different subplots with figure size\n",
    "df.plot(subplots = True,figsize = (15,7))"
   ]
  },
  {
   "cell_type": "code",
   "execution_count": null,
   "metadata": {},
   "outputs": [],
   "source": [
    "#Different types of plots \n",
    "# Different subplots with figure size\n",
    "df.plot(subplots = True,figsize = (15,7),kind = 'hist')"
   ]
  },
  {
   "cell_type": "markdown",
   "metadata": {},
   "source": [
    "### Iris Dataset"
   ]
  },
  {
   "cell_type": "code",
   "execution_count": null,
   "metadata": {},
   "outputs": [],
   "source": [
    "import seaborn as sns\n",
    "iris = sns.load_dataset('iris')\n",
    "iris.head()"
   ]
  },
  {
   "cell_type": "code",
   "execution_count": null,
   "metadata": {},
   "outputs": [],
   "source": [
    "iris.plot()"
   ]
  },
  {
   "cell_type": "code",
   "execution_count": null,
   "metadata": {},
   "outputs": [],
   "source": [
    "iris.plot(subplots = True)"
   ]
  },
  {
   "cell_type": "code",
   "execution_count": null,
   "metadata": {},
   "outputs": [],
   "source": [
    "iris"
   ]
  },
  {
   "cell_type": "code",
   "execution_count": null,
   "metadata": {},
   "outputs": [],
   "source": [
    "plt.plot(iris['sepal_length'],iris['sepal_width'])"
   ]
  },
  {
   "cell_type": "code",
   "execution_count": null,
   "metadata": {},
   "outputs": [],
   "source": [
    "#Plot Sepal length vs sepal width\n",
    "plt.scatter(iris['sepal_length'],iris['sepal_width'])"
   ]
  },
  {
   "cell_type": "code",
   "execution_count": null,
   "metadata": {},
   "outputs": [],
   "source": [
    "#Plot Sepal length vs Petal width\n",
    "plt.scatter(iris['sepal_length'],iris['petal_width'])"
   ]
  },
  {
   "cell_type": "code",
   "execution_count": null,
   "metadata": {},
   "outputs": [],
   "source": [
    "#Both together\n",
    "plt.scatter(iris['sepal_length'],iris['sepal_width'])\n",
    "plt.scatter(iris['sepal_length'],iris['petal_width'])"
   ]
  },
  {
   "cell_type": "code",
   "execution_count": null,
   "metadata": {},
   "outputs": [],
   "source": [
    "#Lets beautify the plots:\n",
    "# give X axis Label\n",
    "#give y axis Label\n",
    "plt.scatter(iris['sepal_length'],iris['sepal_width'])\n",
    "plt.scatter(iris['sepal_length'],iris['petal_width'])\n",
    "\n",
    "plt.xlabel('Sepal Length')\n",
    "plt.ylabel('Widths')"
   ]
  },
  {
   "cell_type": "code",
   "execution_count": null,
   "metadata": {},
   "outputs": [],
   "source": [
    "## grids:\n",
    "plt.scatter(iris['sepal_length'],iris['sepal_width'])\n",
    "plt.scatter(iris['sepal_length'],iris['petal_width'])\n",
    "\n",
    "plt.xlabel('Sepal Length')\n",
    "plt.ylabel('Widths')\n",
    "plt.grid(True)"
   ]
  },
  {
   "cell_type": "code",
   "execution_count": null,
   "metadata": {},
   "outputs": [],
   "source": [
    "#Adding Legend to the plot\n",
    "plt.scatter(iris['sepal_length'],iris['sepal_width'],label = 'Sepal Lenght vs Sepal Width')\n",
    "plt.scatter(iris['sepal_length'],iris['petal_width'],label = 'Sepal Lenght vs Petal Width')\n",
    "\n",
    "plt.xlabel('Sepal Length')\n",
    "plt.ylabel('Widths')\n",
    "plt.grid(True)\n",
    "plt.legend(loc = 'upper right')"
   ]
  },
  {
   "cell_type": "code",
   "execution_count": null,
   "metadata": {},
   "outputs": [],
   "source": [
    "#Change the size of plot\n",
    "\n",
    "plt.figure(figsize=(16,10))\n",
    "\n",
    "\n",
    "plt.scatter(iris['sepal_length'],iris['sepal_width'],label = 'Sepal Lenght vs Sepal Width')\n",
    "plt.scatter(iris['sepal_length'],iris['petal_width'],label = 'Sepal Lenght vs Petal Width')\n",
    "\n",
    "plt.xlabel('Sepal Length')\n",
    "plt.ylabel('Widths')\n",
    "plt.grid(True)\n",
    "plt.legend(loc = 'upper right')"
   ]
  },
  {
   "cell_type": "code",
   "execution_count": null,
   "metadata": {},
   "outputs": [],
   "source": [
    "# Change the scatter color and size\n",
    "\n",
    "plt.figure(figsize=(16,10))\n",
    "\n",
    "\n",
    "plt.scatter(iris['sepal_length'],iris['sepal_width'],label = 'Sepal Lenght vs Sepal Width',s =25,c ='blue')\n",
    "plt.scatter(iris['sepal_length'],iris['petal_width'],label = 'Sepal Lenght vs Petal Width',s = 50,c='red')\n",
    "\n",
    "plt.xlabel('Sepal Length')\n",
    "plt.ylabel('Widths')\n",
    "plt.grid(True)\n",
    "plt.legend(loc = 'upper right')\n",
    "\n"
   ]
  },
  {
   "cell_type": "code",
   "execution_count": null,
   "metadata": {},
   "outputs": [],
   "source": [
    "# title\n",
    "plt.figure(figsize=(16,10))\n",
    "\n",
    "\n",
    "plt.scatter(iris['sepal_length'],iris['sepal_width'],label = 'Sepal Lenght vs Sepal Width',s =25,c ='blue')\n",
    "plt.scatter(iris['sepal_length'],iris['petal_width'],label = 'Sepal Lenght vs Petal Width',s = 50,c='red')\n",
    "\n",
    "plt.title('Sepal Length vs Widths')\n",
    "plt.xlabel('Sepal Length')\n",
    "plt.ylabel('Widths')\n",
    "plt.grid(True)\n",
    "plt.legend(loc = 'upper right')\n"
   ]
  },
  {
   "cell_type": "code",
   "execution_count": null,
   "metadata": {},
   "outputs": [],
   "source": [
    "plt.style.available"
   ]
  },
  {
   "cell_type": "code",
   "execution_count": null,
   "metadata": {},
   "outputs": [],
   "source": [
    "#FInal step: Beautify the plot \n",
    "plt.style.use('classic')\n",
    "plt.figure(figsize=(16,10))\n",
    "\n",
    "\n",
    "plt.scatter(iris['sepal_length'],iris['sepal_width'],label = 'Sepal Lenght vs Sepal Width',s =25,c ='blue')\n",
    "plt.scatter(iris['sepal_length'],iris['petal_width'],label = 'Sepal Lenght vs Petal Width',s = 50,c='red')\n",
    "\n",
    "plt.title('Sepal Length vs Widths')\n",
    "plt.xlabel('Sepal Length')\n",
    "plt.ylabel('Widths')\n",
    "plt.grid(True)\n",
    "plt.legend(loc = 'upper right')\n"
   ]
  },
  {
   "cell_type": "code",
   "execution_count": null,
   "metadata": {},
   "outputs": [],
   "source": [
    "## Lets see line plot\n",
    "\n",
    "x = np.linspace(0,4*np.pi,1000)\n",
    "y = np.sin(x)\n",
    "z = np.cos(x)\n",
    "\n",
    "plt.style.use('classic')\n",
    "plt.figure(figsize=(16,7))\n",
    "\n",
    "\n",
    "plt.plot(x,y,label = 'Sin Function',lw=4,c ='blue')\n",
    "plt.plot(x,z,label = 'Cos Function',lw=2,c='red')\n",
    "\n",
    "plt.title('Sepal Length vs Widths')\n",
    "plt.xlabel('Sepal Length')\n",
    "plt.ylabel('Widths')\n",
    "plt.grid(True)\n",
    "plt.legend(loc = 'upper right')"
   ]
  },
  {
   "cell_type": "code",
   "execution_count": null,
   "metadata": {},
   "outputs": [],
   "source": [
    "x = np.linspace(0,4*np.pi,1000)\n",
    "y = np.sin(x)\n",
    "z = np.cos(x)\n",
    "\n",
    "plt.style.use('classic')\n",
    "plt.figure(figsize=(16,7))\n",
    "\n",
    "\n",
    "plt.plot(x,y,'--',label = 'Sin Function',lw=4,c ='blue')\n",
    "plt.plot(x,z,label = 'Cos Function',lw=2,c='red')\n",
    "\n",
    "plt.title('Sepal Length vs Widths')\n",
    "plt.xlabel('Sepal Length')\n",
    "plt.ylabel('Widths')\n",
    "plt.grid(True)\n",
    "plt.legend(loc = 'upper right')"
   ]
  },
  {
   "cell_type": "markdown",
   "metadata": {},
   "source": [
    "## histogram: how many time a number is occured"
   ]
  },
  {
   "cell_type": "code",
   "execution_count": null,
   "metadata": {},
   "outputs": [],
   "source": [
    "plt.hist(iris['sepal_length'])"
   ]
  },
  {
   "cell_type": "code",
   "execution_count": null,
   "metadata": {},
   "outputs": [],
   "source": [
    "plt.hist(iris['sepal_length'])\n",
    "\n",
    "plt.hist(iris['petal_length'])\n"
   ]
  },
  {
   "cell_type": "code",
   "execution_count": null,
   "metadata": {},
   "outputs": [],
   "source": [
    "iris.plot(kind = 'hist')"
   ]
  },
  {
   "cell_type": "code",
   "execution_count": null,
   "metadata": {},
   "outputs": [],
   "source": [
    "iris.plot(kind = 'hist',bins = 100)"
   ]
  },
  {
   "cell_type": "code",
   "execution_count": null,
   "metadata": {},
   "outputs": [],
   "source": [
    "iris.plot(kind = 'hist',bins = 100,subplots = 'True')"
   ]
  },
  {
   "cell_type": "markdown",
   "metadata": {},
   "source": [
    "## pie Chart"
   ]
  },
  {
   "cell_type": "code",
   "execution_count": null,
   "metadata": {},
   "outputs": [],
   "source": [
    "data = iris.iloc[0]"
   ]
  },
  {
   "cell_type": "code",
   "execution_count": null,
   "metadata": {},
   "outputs": [],
   "source": [
    "data[:-1]"
   ]
  },
  {
   "cell_type": "code",
   "execution_count": null,
   "metadata": {},
   "outputs": [],
   "source": [
    "data[:-1].plot(kind = 'pie')"
   ]
  },
  {
   "cell_type": "markdown",
   "metadata": {},
   "source": [
    "## box plot: statistical"
   ]
  },
  {
   "cell_type": "code",
   "execution_count": null,
   "metadata": {},
   "outputs": [],
   "source": [
    "plt.boxplot(iris['petal_length'])"
   ]
  },
  {
   "cell_type": "markdown",
   "metadata": {},
   "source": [
    "## Scatter Matrix: All data comparison\n",
    "\n",
    "- Scatters for different features\n",
    "- Histogram from same feature"
   ]
  },
  {
   "cell_type": "code",
   "execution_count": null,
   "metadata": {},
   "outputs": [],
   "source": [
    "from pandas.plotting import scatter_matrix"
   ]
  },
  {
   "cell_type": "code",
   "execution_count": null,
   "metadata": {},
   "outputs": [],
   "source": [
    "pd.plotting.scatter_matrix(iris, figsize = (10,10), color = 'r', alpha = 0.9)"
   ]
  },
  {
   "cell_type": "markdown",
   "metadata": {},
   "source": [
    "## Dynamic plotting"
   ]
  },
  {
   "cell_type": "code",
   "execution_count": null,
   "metadata": {},
   "outputs": [],
   "source": [
    "from ipywidgets import interactive"
   ]
  },
  {
   "cell_type": "code",
   "execution_count": null,
   "metadata": {},
   "outputs": [],
   "source": [
    "def power(n):\n",
    "    x = np.linspace(-5,5,10)\n",
    "    y = x**n\n",
    "    \n",
    "    plt.figure(figsize = (7,7))\n",
    "    plt.title(f'Power {n} polynomial')\n",
    "    \n",
    "    plt.plot(x,y,label = f'X to the power {n}')\n",
    "    plt.axvline(0,c = 'black')\n",
    "    \n",
    "    plt.xlabel('X')\n",
    "    plt.ylabel(f'X^{n}')\n",
    "    plt.legend()\n",
    "    plt.grid(True)\n",
    "    \n",
    "    return x,y"
   ]
  },
  {
   "cell_type": "code",
   "execution_count": null,
   "metadata": {},
   "outputs": [],
   "source": [
    "w = interactive(power,n = (0,8))"
   ]
  },
  {
   "cell_type": "code",
   "execution_count": null,
   "metadata": {},
   "outputs": [],
   "source": [
    "w"
   ]
  },
  {
   "cell_type": "markdown",
   "metadata": {},
   "source": [
    "## Seaborn: Python data visualization library based on matplotlib. It provides a high-level interface for drawing attractive and informative statistical graphics"
   ]
  },
  {
   "cell_type": "code",
   "execution_count": null,
   "metadata": {},
   "outputs": [],
   "source": [
    "sns.get_dataset_names()"
   ]
  },
  {
   "cell_type": "code",
   "execution_count": null,
   "metadata": {},
   "outputs": [],
   "source": [
    "tips = sns.load_dataset('tips')\n",
    "tips"
   ]
  },
  {
   "cell_type": "markdown",
   "metadata": {},
   "source": [
    "## Relplot: scatter plot of seaborn\n"
   ]
  },
  {
   "cell_type": "code",
   "execution_count": null,
   "metadata": {},
   "outputs": [],
   "source": [
    "plt.style.use('fivethirtyeight')\n",
    "sns.relplot(x = tips['total_bill'], y = tips['tip'])"
   ]
  },
  {
   "cell_type": "code",
   "execution_count": null,
   "metadata": {},
   "outputs": [],
   "source": [
    "# Hue = analyse one more variable using color\n",
    "sns.relplot(x = 'total_bill', y = 'tip', data = tips, hue = 'time')"
   ]
  },
  {
   "cell_type": "code",
   "execution_count": null,
   "metadata": {},
   "outputs": [],
   "source": [
    "# one more variable using style\n",
    "sns.relplot(x = 'total_bill', y = 'tip', data = tips, hue = 'day', style = 'smoker')"
   ]
  },
  {
   "cell_type": "markdown",
   "metadata": {},
   "source": [
    "## countplot"
   ]
  },
  {
   "cell_type": "code",
   "execution_count": null,
   "metadata": {},
   "outputs": [],
   "source": [
    "sns.countplot(x = tips['sex'])"
   ]
  },
  {
   "cell_type": "code",
   "execution_count": null,
   "metadata": {},
   "outputs": [],
   "source": [
    "sns.countplot(x = tips['smoker'])"
   ]
  },
  {
   "cell_type": "code",
   "execution_count": null,
   "metadata": {},
   "outputs": [],
   "source": [
    "sns.countplot( y = tips['day'])"
   ]
  },
  {
   "cell_type": "markdown",
   "metadata": {},
   "source": [
    "## Categorical vs Numerical values: Catplot"
   ]
  },
  {
   "cell_type": "code",
   "execution_count": null,
   "metadata": {},
   "outputs": [],
   "source": [
    "sns.catplot(x = 'day', y = 'total_bill' , data = tips)"
   ]
  },
  {
   "cell_type": "code",
   "execution_count": null,
   "metadata": {},
   "outputs": [],
   "source": [
    "sns.catplot(x = 'smoker', y = 'total_bill' , data = tips)"
   ]
  },
  {
   "cell_type": "markdown",
   "metadata": {},
   "source": [
    "## boxplot"
   ]
  },
  {
   "cell_type": "code",
   "execution_count": null,
   "metadata": {},
   "outputs": [],
   "source": [
    "sns.boxplot(tips['day'],tips['tip'])"
   ]
  },
  {
   "cell_type": "code",
   "execution_count": null,
   "metadata": {},
   "outputs": [],
   "source": [
    "sns.boxplot(tips['day'],tips['tip'], hue = tips['sex'])"
   ]
  },
  {
   "cell_type": "markdown",
   "metadata": {},
   "source": [
    "# JointPlot: scatter Plus histogram for bivariate"
   ]
  },
  {
   "cell_type": "code",
   "execution_count": null,
   "metadata": {},
   "outputs": [],
   "source": [
    "tips"
   ]
  },
  {
   "cell_type": "code",
   "execution_count": null,
   "metadata": {},
   "outputs": [],
   "source": [
    "sns.jointplot(x = tips['total_bill'], y = tips['tip'])"
   ]
  },
  {
   "cell_type": "code",
   "execution_count": null,
   "metadata": {},
   "outputs": [],
   "source": [
    "sns.pairplot(tips)"
   ]
  },
  {
   "cell_type": "markdown",
   "metadata": {},
   "source": [
    "## Fitting regression line for data points"
   ]
  },
  {
   "cell_type": "code",
   "execution_count": null,
   "metadata": {},
   "outputs": [],
   "source": [
    "sns.lmplot(x = 'total_bill', y = 'tip', data = tips)"
   ]
  },
  {
   "cell_type": "code",
   "execution_count": null,
   "metadata": {},
   "outputs": [],
   "source": [
    "# regression line based on day\n",
    "sns.lmplot(x = 'total_bill', y = 'tip', data = tips, col = 'day')"
   ]
  },
  {
   "cell_type": "markdown",
   "metadata": {},
   "source": [
    "## Thank You"
   ]
  }
 ],
 "metadata": {
  "kernelspec": {
   "display_name": "Python 3",
   "language": "python",
   "name": "python3"
  },
  "language_info": {
   "codemirror_mode": {
    "name": "ipython",
    "version": 3
   },
   "file_extension": ".py",
   "mimetype": "text/x-python",
   "name": "python",
   "nbconvert_exporter": "python",
   "pygments_lexer": "ipython3",
   "version": "3.7.4"
  }
 },
 "nbformat": 4,
 "nbformat_minor": 2
}
